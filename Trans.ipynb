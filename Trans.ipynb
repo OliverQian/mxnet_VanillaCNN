{
 "cells": [
  {
   "cell_type": "code",
   "execution_count": 1,
   "metadata": {
    "collapsed": true
   },
   "outputs": [],
   "source": [
    "import caffe\n",
    "import cv2\n",
    "import numpy as np"
   ]
  },
  {
   "cell_type": "markdown",
   "metadata": {},
   "source": [
    "# Load caffe model"
   ]
  },
  {
   "cell_type": "code",
   "execution_count": 2,
   "metadata": {
    "collapsed": false
   },
   "outputs": [],
   "source": [
    "class Predictor:\n",
    "    \n",
    "    def preprocess(self, resized):\n",
    "        ret = resized.astype('f4')\n",
    "        ret -= self.mean\n",
    "        ret /= (1.e-6+ self.std)\n",
    "        return  ret\n",
    "    \n",
    "    def predict(self, resized):\n",
    "        \"\"\"\n",
    "        @resized: image 40,40 already pre processed \n",
    "        \"\"\"         \n",
    "        self.net.blobs['data'].data[...] = cv2.split(resized)\n",
    "        prediction = self.net.forward()['Dense2'][0]\n",
    "        return prediction\n",
    "        \n",
    "    def __init__(self, protoTXTPath, weightsPath):\n",
    "        caffe.set_mode_cpu()\n",
    "        self.net = caffe.Net(protoTXTPath,weightsPath,caffe.TEST)\n",
    "        self.mean = cv2.imread('./trainMean.png').astype('float')\n",
    "        self.std  = cv2.imread('./trainSTD.png').astype('float')"
   ]
  },
  {
   "cell_type": "code",
   "execution_count": 3,
   "metadata": {
    "collapsed": false
   },
   "outputs": [
    {
     "name": "stdout",
     "output_type": "stream",
     "text": [
      "[-0.22493494 -0.24115832  0.18771622 -0.25451189  0.02025338 -0.02075372\n",
      " -0.23037848  0.14349605  0.20071335  0.13110712]\n"
     ]
    }
   ],
   "source": [
    "predictor = Predictor(\"./vanilla_deploy.prototxt\",\"./vanillaCNN.caffemodel\")       #load caffe model and weights\n",
    "\n",
    "a=cv2.imread(\"./test.png\")\n",
    "a=cv2.resize(a,(40,40))                     #load test image\n",
    "\n",
    "img=predictor.preprocess(a)           #pre processing\n",
    "\n",
    "points=predictor.predict(img)       #predict facial landmark\n",
    "\n",
    "print(points)\n"
   ]
  },
  {
   "cell_type": "markdown",
   "metadata": {},
   "source": [
    "##  Draw landmarks in image"
   ]
  },
  {
   "cell_type": "code",
   "execution_count": 4,
   "metadata": {
    "collapsed": false
   },
   "outputs": [
    {
     "name": "stdout",
     "output_type": "stream",
     "text": [
      "[ 35.20832825  33.13173676  88.02767944  31.42247772  66.59243011\n",
      "  61.34352493  34.51155472  82.36749268  89.69130707  80.78170776]\n"
     ]
    }
   ],
   "source": [
    "\n",
    "landmark=(points+0.5)*128\n",
    "print(landmark)\n",
    "\n",
    "a=cv2.resize(a,(128,128))\n",
    "\n",
    "cv2.circle(a,(landmark[0],landmark[1]),2,(0,255,0))\n",
    "cv2.circle(a,(landmark[2],landmark[3]),2,(0,255,0))\n",
    "cv2.circle(a,(landmark[4],landmark[5]),2,(0,255,0))\n",
    "cv2.circle(a,(landmark[6],landmark[7]),2,(0,255,0))\n",
    "cv2.circle(a,(landmark[8],landmark[9]),2,(0,255,0))\n",
    "\n",
    "# cv2.imshow(\"1\",a)\n",
    "# cv2.waitKey(0)"
   ]
  },
  {
   "cell_type": "markdown",
   "metadata": {},
   "source": [
    "# Load MXNet model"
   ]
  },
  {
   "cell_type": "code",
   "execution_count": 5,
   "metadata": {
    "collapsed": false
   },
   "outputs": [],
   "source": [
    "import mxnet as mx\n",
    "\n",
    "model=mx.model.FeedForward.load('vanilla',1,num_batch_size=1)     #load model"
   ]
  },
  {
   "cell_type": "code",
   "execution_count": 6,
   "metadata": {
    "collapsed": false
   },
   "outputs": [],
   "source": [
    "b=np.zeros((1,3,40,40),dtype=np.float32)      #change chanels into shape[1,3,40,40]\n",
    "b[0,0,:,:]=img[:,:,2]\n",
    "b[0,1,:,:]=img[:,:,1]\n",
    "b[0,2,:,:]=img[:,:,0]                               #Swapping BGR of caffe into RGB in mxnet"
   ]
  },
  {
   "cell_type": "code",
   "execution_count": 7,
   "metadata": {
    "collapsed": false
   },
   "outputs": [
    {
     "name": "stdout",
     "output_type": "stream",
     "text": [
      "[[-0.22493497 -0.2411584   0.18771638 -0.25451207  0.0202535  -0.02075362\n",
      "  -0.23037851  0.14349589  0.2007134   0.13110715]]\n",
      "[ 35.20832443  33.13172531  88.0276947   31.42245483  66.59244537\n",
      "  61.34353638  34.5115509   82.36747742  89.6913147   80.78171539]\n"
     ]
    }
   ],
   "source": [
    "points=model.predict(b)\n",
    "print(points)\n",
    "\n",
    "landmark=(points+0.5)*128       #print landmarks\n",
    "print(landmark[0])\n"
   ]
  },
  {
   "cell_type": "code",
   "execution_count": 8,
   "metadata": {
    "collapsed": false
   },
   "outputs": [
    {
     "data": {
      "text/plain": [
       "True"
      ]
     },
     "execution_count": 8,
     "metadata": {},
     "output_type": "execute_result"
    }
   ],
   "source": [
    "a=cv2.imread(\"./test.png\")\n",
    "\n",
    "landmark=landmark[0]\n",
    "cv2.circle(a,(landmark[0],landmark[1]),2,(0,255,0))\n",
    "cv2.circle(a,(landmark[2],landmark[3]),2,(0,255,0))\n",
    "cv2.circle(a,(landmark[4],landmark[5]),2,(0,255,0))\n",
    "cv2.circle(a,(landmark[6],landmark[7]),2,(0,255,0))\n",
    "cv2.circle(a,(landmark[8],landmark[9]),2,(0,255,0))\n",
    "\n",
    "cv2.imwrite(\"landmark.jpg\",a)   #save landmarks"
   ]
  }
 ],
 "metadata": {
  "kernelspec": {
   "display_name": "Python 2",
   "language": "python",
   "name": "python2"
  },
  "language_info": {
   "codemirror_mode": {
    "name": "ipython",
    "version": 2
   },
   "file_extension": ".py",
   "mimetype": "text/x-python",
   "name": "python",
   "nbconvert_exporter": "python",
   "pygments_lexer": "ipython2",
   "version": "2.7.6"
  }
 },
 "nbformat": 4,
 "nbformat_minor": 0
}
